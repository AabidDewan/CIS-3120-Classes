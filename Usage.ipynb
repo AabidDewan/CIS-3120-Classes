{
 "cells": [
  {
   "cell_type": "code",
   "execution_count": 3,
   "id": "6b88b4bc-a5c4-436d-9eed-8e95600f6d53",
   "metadata": {
    "editable": true,
    "slideshow": {
     "slide_type": ""
    },
    "tags": []
   },
   "outputs": [],
   "source": [
    "from Animal import Animal"
   ]
  },
  {
   "cell_type": "code",
   "execution_count": 4,
   "id": "738a52e3-faf1-4f92-8835-fed5b5e36dfe",
   "metadata": {
    "editable": true,
    "slideshow": {
     "slide_type": ""
    },
    "tags": []
   },
   "outputs": [
    {
     "name": "stdout",
     "output_type": "stream",
     "text": [
      "This animal is a Lion\n",
      "It makes the sound Roar\n",
      "The color of the animal is Golden\n",
      "The animal's species is Panthera Leo\n",
      "The animal is 20 years old\n"
     ]
    }
   ],
   "source": [
    "myanimal = Animal(\"Lion\", \"Roar\", \"Golden\", \"Panthera Leo\", 15)\n",
    "myanimal.name()\n",
    "myanimal.cry()\n",
    "myanimal.color()\n",
    "myanimal.species()\n",
    "myanimal.age()"
   ]
  }
 ],
 "metadata": {
  "kernelspec": {
   "display_name": "Python 3",
   "language": "python",
   "name": "python3"
  },
  "language_info": {
   "codemirror_mode": {
    "name": "ipython",
    "version": 3
   },
   "file_extension": ".py",
   "mimetype": "text/x-python",
   "name": "python",
   "nbconvert_exporter": "python",
   "pygments_lexer": "ipython3",
   "version": "3.13.1"
  }
 },
 "nbformat": 4,
 "nbformat_minor": 5
}
